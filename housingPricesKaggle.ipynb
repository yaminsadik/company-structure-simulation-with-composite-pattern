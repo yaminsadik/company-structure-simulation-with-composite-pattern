{
  "nbformat": 4,
  "nbformat_minor": 0,
  "metadata": {
    "colab": {
      "provenance": [],
      "authorship_tag": "ABX9TyNS0WuNFQzvobU85iUZR/JM",
      "include_colab_link": true
    },
    "kernelspec": {
      "name": "python3",
      "display_name": "Python 3"
    },
    "language_info": {
      "name": "python"
    }
  },
  "cells": [
    {
      "cell_type": "markdown",
      "metadata": {
        "id": "view-in-github",
        "colab_type": "text"
      },
      "source": [
        "<a href=\"https://colab.research.google.com/github/yaminsadik/company-structure-simulation-with-composite-pattern/blob/master/housingPricesKaggle.ipynb\" target=\"_parent\"><img src=\"https://colab.research.google.com/assets/colab-badge.svg\" alt=\"Open In Colab\"/></a>"
      ]
    },
    {
      "cell_type": "markdown",
      "source": [
        "# Problem Objective\n",
        "\n"
      ],
      "metadata": {
        "id": "dhxVOvnFNXLx"
      }
    },
    {
      "cell_type": "markdown",
      "source": [
        "This notebook explores the housing dataset from Kaggle with 79 explanatory variables describing (almost) every aspect of residential homes in Ames, Iowa. The data has been seperated into trainig set and test set. The goal is to predict the final Sale price of the houses in the test data set."
      ],
      "metadata": {
        "id": "826oUV3kOfuC"
      }
    },
    {
      "cell_type": "markdown",
      "source": [
        "# Data-Preprocessing\n"
      ],
      "metadata": {
        "id": "YGJQ3ybEPe4u"
      }
    },
    {
      "cell_type": "markdown",
      "source": [
        "# Importing the libraries"
      ],
      "metadata": {
        "id": "_yDVqh4vPxeK"
      }
    },
    {
      "cell_type": "code",
      "execution_count": 2,
      "metadata": {
        "id": "_mjEVzMtMCbH"
      },
      "outputs": [],
      "source": [
        "import numpy as np\n",
        "import matplotlib.pyplot as plt\n",
        "import pandas as pd\n",
        "import seaborn as sns\n",
        "import plotly.express as px\n",
        "import plotly.graph_objects as go"
      ]
    },
    {
      "cell_type": "markdown",
      "source": [
        "# Importing the dataset"
      ],
      "metadata": {
        "id": "NcHHE1ppQKwU"
      }
    },
    {
      "cell_type": "code",
      "source": [
        "df_train = pd.read_csv('https://drive.google.com/file/d/17_9TlIw1eJOb_Up6DTxqX-qu1OLazUdu/view?usp=drive_link')\n",
        "df_test = pd.read_csv('https://drive.google.com/file/d/1WOClixeDBK3AKPtyVC7fNkRSAyOoBn-c/view?usp=drive_link')"
      ],
      "metadata": {
        "id": "ezumu3bcQQqT"
      },
      "execution_count": 7,
      "outputs": []
    },
    {
      "cell_type": "markdown",
      "source": [
        "# Information about the data-frame"
      ],
      "metadata": {
        "id": "9AEnQrpAR2fk"
      }
    },
    {
      "cell_type": "code",
      "source": [],
      "metadata": {
        "id": "971VQxV8Qusa"
      },
      "execution_count": null,
      "outputs": []
    }
  ]
}